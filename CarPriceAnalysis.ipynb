{
 "cells": [
  {
   "cell_type": "code",
   "execution_count": null,
   "metadata": {},
   "outputs": [],
   "source": [
    "import pandas as pd\n",
    "df = pd.read_csv('car_price_dataset.csv') \n",
    "df.columns = df.columns.str.strip()\n",
    "\n",
    "df.head()\n",
    "\n",
    "#DataSet first view"
   ]
  },
  {
   "cell_type": "code",
   "execution_count": null,
   "metadata": {},
   "outputs": [],
   "source": [
    "df.info\n",
    "df.isnull().sum()\n",
    "#Checking if there is any null value to be handled"
   ]
  },
  {
   "cell_type": "code",
   "execution_count": null,
   "metadata": {},
   "outputs": [],
   "source": [
    "brand_counts = df[\"Brand\"].value_counts()\n",
    "brand_counts_df = brand_counts.reset_index()\n",
    "brand_counts_df.columns = [\"Brand\", \"Amount\"]\n",
    "print(brand_counts_df)\n",
    "#checking how many brands and their quantity"
   ]
  },
  {
   "cell_type": "code",
   "execution_count": null,
   "metadata": {},
   "outputs": [],
   "source": [
    "import matplotlib.pyplot as plt\n",
    "import seaborn as sns\n",
    "\n",
    "\n",
    "plt.figure(figsize=(10,6))\n",
    "sns.histplot(df[\"Price\"], kde=True, color=\"yellow\")\n",
    "plt.title(\"Car price distribution\")\n",
    "plt.xlabel(\"Price\")\n",
    "plt.ylabel(\"Frequency\")\n",
    "plt.show()\n",
    "\n",
    "sns.boxplot(x=df[\"Price\"], color=\"red\")\n",
    "plt.title(\"Distribuição do preço com outliers\")\n",
    "plt.show()"
   ]
  },
  {
   "cell_type": "code",
   "execution_count": null,
   "metadata": {},
   "outputs": [],
   "source": [
    "from datetime import datetime\n",
    "\n",
    "current_year = datetime.now().year\n",
    "\n",
    "df['Age'] = current_year - df['Year']\n",
    "\n",
    "df.head()\n",
    "#creating the \"age\" column for cars"
   ]
  },
  {
   "cell_type": "code",
   "execution_count": null,
   "metadata": {},
   "outputs": [],
   "source": [
    "plt.figure(figsize=(12,6))\n",
    "sns.boxplot(x = \"Brand\", y = \"Price\", data=df)\n",
    "\n",
    "plt.xticks(rotation=90)\n",
    "plt.xlabel(\"Brand\")\n",
    "plt.ylabel(\"Price\")\n",
    "plt.title(\"Price Distribution by Brand\")"
   ]
  },
  {
   "cell_type": "markdown",
   "metadata": {},
   "source": [
    "**Even with some values ​​outside the average, it is clear that the majority remain within the same range. Let's investigate what generates the changes.**"
   ]
  },
  {
   "cell_type": "code",
   "execution_count": null,
   "metadata": {},
   "outputs": [],
   "source": [
    "import seaborn as sns\n",
    "\n",
    "plt.figure(figsize=(12,6))\n",
    "sns.boxplot(x = \"Age\", y = \"Price\", data=df)\n",
    "\n",
    "plt.xticks(rotation=90)\n",
    "plt.xlabel(\"Age\")\n",
    "plt.ylabel(\"Price\")\n",
    "plt.title(\"Price distribution by age\")"
   ]
  },
  {
   "cell_type": "markdown",
   "metadata": {},
   "source": [
    "**Even with the exceptions, it is notable that the older the cars, the cheaper they get.**"
   ]
  },
  {
   "cell_type": "code",
   "execution_count": null,
   "metadata": {},
   "outputs": [],
   "source": [
    "bins = [0, 30000, 60000, 90000, 120000, 150000, 180000, 300000]\n",
    "labels = [\"0-30k\", \"30k-60k\", \"60k-90k\", \"90k-120k\", \"120k-150k\", \"150k-180k\", \"180k+\"]\n",
    "\n",
    "df[\"Miles range\"] = pd.cut(df[\"Mileage\"], bins=bins, labels=labels)\n",
    "\n",
    "df_grouped = df.groupby(\"Miles range\")[\"Price\"].mean().reset_index()\n",
    "\n",
    "plt.figure(figsize=(10,5))\n",
    "custom_palette = [\"#FF5733\", \"#FFC300\", \"#3498DB\", \"#2ECC71\", \"#FF5733\"]\n",
    "sns.barplot(x = \"Miles range\", y = \"Price\", data=df_grouped, palette=custom_palette)\n",
    "\n",
    "plt.xlabel(\"Mileage range\")\n",
    "plt.ylabel(\"Average price ($)\")\n",
    "plt.title(\"Average price of cars by mileage range\")\n",
    "plt.show()"
   ]
  },
  {
   "cell_type": "markdown",
   "metadata": {},
   "source": [
    "**Taking mileage as a parameter now, it is also noticeable how high mileage lowers the price of cars.**"
   ]
  },
  {
   "cell_type": "code",
   "execution_count": null,
   "metadata": {},
   "outputs": [],
   "source": [
    "from scipy import stats\n",
    "\n",
    "miles_range = df[\"Miles range\"]\n",
    "miles_range_groups = [df[df[\"Miles range\"] == range_][\"Price\"] for range_ in miles_range.unique()]\n",
    "\n",
    "f_stat, p_value = stats.f_oneway(*miles_range_groups)\n",
    "print(f\"F-Statistic: {f_stat}, P-Value: {p_value}\")"
   ]
  },
  {
   "cell_type": "markdown",
   "metadata": {},
   "source": [
    "**These results of the F statistic and P value reinforce the information provided by the graph above, how related mileage and price are.**"
   ]
  },
  {
   "cell_type": "code",
   "execution_count": null,
   "metadata": {},
   "outputs": [],
   "source": [
    "from sklearn.preprocessing import LabelEncoder\n",
    "\n",
    "label_encoder = LabelEncoder()\n",
    "\n",
    "df['Brand Number'] = label_encoder.fit_transform(df['Brand'])\n",
    "#giving numbers to brands in order to create a correlation with them\n",
    "\n",
    "df['Miles Range number'] = label_encoder.fit_transform(df['Miles range'])\n",
    "#giving numbers to miles range number in order to create a correlation with them"
   ]
  },
  {
   "cell_type": "code",
   "execution_count": null,
   "metadata": {},
   "outputs": [],
   "source": [
    "df_filtered = df.drop(columns=[\"Brand\", \"Model\", \"Fuel_Type\", \"Transmission\", \"Doors\", \"Owner_Count\", \"Miles range\"])\n",
    "correlation_matrix = df_filtered.corr()\n",
    "#these variables were excluded so as not to affect the generation of the correlation matrix\n",
    "\n",
    "plt.figure(figsize=(12,6))\n",
    "sns.heatmap(correlation_matrix, annot = True, cmap=\"coolwarm\", fmt=\".2f\")\n",
    "plt.title(\"Matriz de correlação\")\n",
    "plt.show()"
   ]
  },
  {
   "cell_type": "markdown",
   "metadata": {},
   "source": [
    "**Once again we see the connection that age and mileage have with the price of the car**"
   ]
  },
  {
   "cell_type": "code",
   "execution_count": null,
   "metadata": {},
   "outputs": [],
   "source": [
    "from scipy import stats\n",
    "\n",
    "df_1_owner = df[df[\"Owner_Count\"] == 1][\"Price\"]\n",
    "df_2m_owners = df[df[\"Owner_Count\"] > 1][\"Price\"]\n",
    "\n",
    "t_stat, p_value = stats.ttest_ind(df_1_owner, df_2m_owners)\n",
    "print(f\"T-Statistic: {t_stat}, P-Value: {p_value}\")"
   ]
  },
  {
   "cell_type": "code",
   "execution_count": null,
   "metadata": {},
   "outputs": [],
   "source": [
    "import seaborn as sns\n",
    "\n",
    "plt.figure(figsize=(12,6))\n",
    "sns.boxplot(x = \"Owner_Count\", y = \"Price\", data=df)\n",
    "\n",
    "plt.xticks(rotation=90)\n",
    "plt.xlabel(\"Owner_Count\")\n",
    "plt.ylabel(\"Price\")\n",
    "plt.title(\"Price distribution by Owner_Count\")"
   ]
  },
  {
   "cell_type": "markdown",
   "metadata": {},
   "source": [
    "**Both the tests and the graph make it clear that the number of previous owners has almost no effect on the price of the cars.**"
   ]
  },
  {
   "cell_type": "code",
   "execution_count": null,
   "metadata": {},
   "outputs": [],
   "source": [
    "from sklearn.linear_model import LinearRegression\n",
    "import matplotlib.pyplot as plt\n",
    "import numpy as np\n",
    "\n",
    "x = df[[\"Age\"]].values\n",
    "y = df[\"Price\"]\n",
    "\n",
    "model = LinearRegression()\n",
    "\n",
    "model.fit(x, y)\n",
    "\n",
    "y_pred = model.predict(x)\n",
    "\n",
    "residuals = y - y_pred\n",
    "std_error = np.std(residuals)\n",
    "\n",
    "upper_bound = y_pred + 1.96 * std_error\n",
    "lower_bound = y_pred - 1.96 * std_error\n",
    "\n",
    "plt.figure(figsize=(12,6))\n",
    "plt.scatter(x, y, color = 'blue', label = 'Real data')\n",
    "plt.plot(x, y_pred, color='red', label='Prediction (regression line)')\n",
    "plt.fill_between(x.flatten(), lower_bound, upper_bound, color='gray', alpha=0.2, label='Confidence Interval')\n",
    "plt.title('Price prediction based on car age')\n",
    "plt.xlabel(\"Car age\")\n",
    "plt.ylabel(\"Price\")\n",
    "plt.legend()\n",
    "plt.show()"
   ]
  },
  {
   "cell_type": "markdown",
   "metadata": {},
   "source": [
    "**Even with points far from the regression line (red), the gray space, which represents the confidence interval, shows that the age of the car is a very important variable when setting a price to sell a car.**"
   ]
  }
 ],
 "metadata": {
  "kernelspec": {
   "display_name": "Python 3",
   "language": "python",
   "name": "python3"
  },
  "language_info": {
   "codemirror_mode": {
    "name": "ipython",
    "version": 3
   },
   "file_extension": ".py",
   "mimetype": "text/x-python",
   "name": "python",
   "nbconvert_exporter": "python",
   "pygments_lexer": "ipython3",
   "version": "3.12.1"
  }
 },
 "nbformat": 4,
 "nbformat_minor": 2
}
